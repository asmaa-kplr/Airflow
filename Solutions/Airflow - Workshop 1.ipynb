{
  "cells": [
    {
      "cell_type": "markdown",
      "id": "4110b62e",
      "metadata": {
        "id": "4110b62e"
      },
      "source": [
        "# Airflow - Workshop 1"
      ]
    },
    {
      "cell_type": "markdown",
      "id": "43d57619",
      "metadata": {
        "id": "43d57619"
      },
      "source": [
        "## Configurer Apache Airflow avec Docker-Compose"
      ]
    },
    {
      "cell_type": "markdown",
      "id": "91a37650",
      "metadata": {
        "id": "91a37650"
      },
      "source": [
        "### 1 . Avant de commencer"
      ]
    },
    {
      "cell_type": "markdown",
      "id": "057ce894",
      "metadata": {
        "id": "057ce894"
      },
      "source": [
        "Cette procédure suppose une familiarité avec Docker et Docker Compose.\n",
        "\n",
        "Docker : Une plateforme de virtualisation de conteneurs qui permet d'exécuter des applications dans des environnements isolés, appelés conteneurs, afin de faciliter le déploiement et la gestion d'applications sur différents systèmes d'exploitation et infrastructures.\n",
        "\n",
        "Docker-compose : Est un outil de gestion de conteneurs qui permet de définir et de gérer plusieurs conteneurs Docker en même temps"
      ]
    },
    {
      "cell_type": "markdown",
      "id": "04744b65",
      "metadata": {
        "id": "04744b65"
      },
      "source": [
        "### 2 . Récupération docker-compose.yaml"
      ]
    },
    {
      "cell_type": "markdown",
      "id": "d21c43a1",
      "metadata": {
        "id": "d21c43a1"
      },
      "source": [
        "Pour le déploiement d'Airflow sur Docker Compose, il est nécessaire de récupérer le fichier docker-compose.yaml"
      ]
    },
    {
      "cell_type": "code",
      "execution_count": null,
      "id": "0202b52c",
      "metadata": {
        "id": "0202b52c"
      },
      "outputs": [],
      "source": [
        "curl -LfO 'https://airflow.apache.org/docs/apache-airflow/2.5.1/docker-compose.yaml'"
      ]
    },
    {
      "cell_type": "markdown",
      "id": "0c571c02",
      "metadata": {
        "id": "0c571c02"
      },
      "source": [
        "Ce fichier contient plusieurs définitions de service:\n",
        "\n",
        "airflow-init : Le service d'initialisation.\n",
        "\n",
        "airflow-scheduler : Le planificateur surveilletoutes les tâches et les DAG, puis déclenche le les instances de tâches une fois leurs dépendances terminées."
      ]
    },
    {
      "cell_type": "markdown",
      "id": "eea90065",
      "metadata": {
        "id": "eea90065"
      },
      "source": [
        "![image](https://user-images.githubusercontent.com/123757632/227967946-d1b930e2-c3b6-40c1-a961-62b70a51b73f.png)"
      ]
    },
    {
      "cell_type": "markdown",
      "id": "cb077c27",
      "metadata": {
        "id": "cb077c27"
      },
      "source": [
        "airflow-webserver : Le serveur Web est disponible sur http://localhost:8080."
      ]
    },
    {
      "cell_type": "markdown",
      "id": "73bb9c28",
      "metadata": {
        "id": "73bb9c28"
      },
      "source": [
        "![image](https://user-images.githubusercontent.com/123757632/227968037-38505af2-8dab-438a-87ec-442d058874de.png)"
      ]
    },
    {
      "cell_type": "markdown",
      "id": "bd80d1db",
      "metadata": {
        "id": "bd80d1db"
      },
      "source": [
        "airflow-worker : Le travailleur qui exécute les tâches données par le planificateur."
      ]
    },
    {
      "cell_type": "markdown",
      "id": "1d9f0d1b",
      "metadata": {
        "id": "1d9f0d1b"
      },
      "source": [
        "![image](https://user-images.githubusercontent.com/123757632/227968076-6cc6e82b-6f75-4c9d-9a93-3b6913eda952.png)\n"
      ]
    },
    {
      "cell_type": "markdown",
      "id": "712ced28",
      "metadata": {
        "id": "712ced28"
      },
      "source": [
        "postgres : La base de données."
      ]
    },
    {
      "cell_type": "markdown",
      "id": "01f0633e",
      "metadata": {
        "id": "01f0633e"
      },
      "source": [
        "\n",
        "![image](https://user-images.githubusercontent.com/123757632/227968133-326f3b55-7d70-4a37-b523-00b9b8fb1580.png)\n",
        "\n"
      ]
    },
    {
      "cell_type": "markdown",
      "id": "c4fec12b",
      "metadata": {
        "id": "c4fec12b"
      },
      "source": [
        "redis - Les redis : courtier qui transmet les messages du planificateur au travailleur."
      ]
    },
    {
      "cell_type": "markdown",
      "id": "6dd2707b",
      "metadata": {
        "id": "6dd2707b"
      },
      "source": [
        "![image](https://user-images.githubusercontent.com/123757632/227968173-67cc6572-9fdb-4056-bef3-48d4ed01bf8b.png)\n"
      ]
    },
    {
      "cell_type": "markdown",
      "id": "39c887b9",
      "metadata": {
        "id": "39c887b9"
      },
      "source": [
        "### 3 . Initialisation de l'environnement "
      ]
    },
    {
      "cell_type": "markdown",
      "id": "997149ed",
      "metadata": {
        "id": "997149ed"
      },
      "source": [
        "Avant de démarrer Airflow pour la première fois, vous devez préparer votre environnement, c'est-à-dire créer les fichiers nécessaires, répertoires et initialiser la base de données."
      ]
    },
    {
      "cell_type": "code",
      "execution_count": null,
      "id": "09b69fa5",
      "metadata": {
        "id": "09b69fa5"
      },
      "outputs": [],
      "source": [
        "mkdir -p ./dags ./logs ./plugins\n",
        "echo -e \"AIRFLOW_UID=$(id -u)\" > .env"
      ]
    },
    {
      "cell_type": "markdown",
      "id": "5e35ece2",
      "metadata": {
        "id": "5e35ece2"
      },
      "source": [
        "La première commande crée trois répertoires dans le répertoire actuel (./), nommément dags, logs et plugins. L'option -p signifie que les répertoires parents seront également créés si nécessaire.\n",
        "\n",
        "La deuxième commande crée un fichier nommé .env dans le répertoire actuel et y écrit une variable d'environnement appelée AIRFLOW_UID contenant l'ID utilisateur de l'utilisateur courant"
      ]
    },
    {
      "cell_type": "markdown",
      "id": "796a077e",
      "metadata": {
        "id": "796a077e"
      },
      "source": [
        "\n",
        "![image](https://user-images.githubusercontent.com/123757632/227968212-5ea8dd17-f419-4034-9c32-583a862a0dcb.png)\n"
      ]
    },
    {
      "cell_type": "markdown",
      "id": "698f31c4",
      "metadata": {
        "id": "698f31c4"
      },
      "source": [
        "\"dags\" : C'est un répertoire où vous pouvez stocker des définitions de tâches d'Airflow,qui sont des workflows écrits en Python. Dans ce répertoire, vous pouvez créer un fichier Python pour chaque tâche ou un groupe de tâches liées.\n",
        "\n",
        "\"logs\" : Ce répertoire est utilisé par Airflow pour stocker les fichiers de journalisation (logs) générés lors de l'exécution des tâches.\n",
        "\n",
        "\"plugins\" : Ce répertoire est utilisé pour stocker des plugins personnalisés pour Airflow. Les plugins sont des modules Python qui étendent les fonctionnalités d'Airflow, tels que des connecteurs personnalisés ou des opérateurs personnalisés."
      ]
    },
    {
      "cell_type": "markdown",
      "id": "5db94373",
      "metadata": {
        "id": "5db94373"
      },
      "source": [
        "### 4 . Initialiser la base de données"
      ]
    },
    {
      "cell_type": "markdown",
      "id": "598bc905",
      "metadata": {
        "id": "598bc905"
      },
      "source": [
        "Sur tous les systèmes d'exploitation, vous devez exécuter les migrations de base de données et créer le premier compte utilisateur."
      ]
    },
    {
      "cell_type": "code",
      "execution_count": null,
      "id": "4b3b2174",
      "metadata": {
        "id": "4b3b2174"
      },
      "outputs": [],
      "source": [
        "docker compose up airflow-init"
      ]
    },
    {
      "cell_type": "markdown",
      "id": "de836a6a",
      "metadata": {
        "id": "de836a6a"
      },
      "source": [
        "Une fois l'initialisation terminée, vous devriez voir un message comme celui-ci:"
      ]
    },
    {
      "cell_type": "code",
      "execution_count": null,
      "id": "935531c4",
      "metadata": {
        "id": "935531c4"
      },
      "outputs": [],
      "source": [
        "airflow-init_1       | Upgrades done\n",
        "airflow-init_1       | Admin user airflow created\n",
        "airflow-init_1       | 2.5.1\n",
        "start_airflow-init_1 exited with code 0"
      ]
    },
    {
      "cell_type": "markdown",
      "id": "8519a9ad",
      "metadata": {
        "id": "8519a9ad"
      },
      "source": [
        "###  5 . Exécution d'un Airflow"
      ]
    },
    {
      "cell_type": "markdown",
      "id": "e8fd5dd4",
      "metadata": {
        "id": "e8fd5dd4"
      },
      "source": [
        "Vous pouvez maintenant démarrer tous les services avec :"
      ]
    },
    {
      "cell_type": "code",
      "execution_count": null,
      "id": "b25e6d34",
      "metadata": {
        "id": "b25e6d34"
      },
      "outputs": [],
      "source": [
        "docker compose up -d"
      ]
    },
    {
      "cell_type": "markdown",
      "id": "c514d043",
      "metadata": {
        "id": "c514d043"
      },
      "source": [
        "\n",
        "![image](https://user-images.githubusercontent.com/123757632/227968259-9d47d837-58c7-4eaa-b8ff-44b108c148b1.png)\n"
      ]
    },
    {
      "cell_type": "markdown",
      "id": "b15bfa12",
      "metadata": {
        "id": "b15bfa12"
      },
      "source": [
        "Vous pouvez vérifier l'état des conteneurs et vous assurer qu'aucun conteneur n'est dans un état malsain:"
      ]
    },
    {
      "cell_type": "code",
      "execution_count": null,
      "id": "d2caa3db",
      "metadata": {
        "id": "d2caa3db"
      },
      "outputs": [],
      "source": [
        "docker compose ps"
      ]
    },
    {
      "cell_type": "markdown",
      "id": "7aa007ca",
      "metadata": {
        "id": "7aa007ca"
      },
      "source": [
        "\n",
        "![image](https://user-images.githubusercontent.com/123757632/227968296-10eba179-e4f6-407b-9c3a-11789e863b65.png)"
      ]
    }
  ],
  "metadata": {
    "kernelspec": {
      "display_name": "Python 3 (ipykernel)",
      "language": "python",
      "name": "python3"
    },
    "language_info": {
      "codemirror_mode": {
        "name": "ipython",
        "version": 3
      },
      "file_extension": ".py",
      "mimetype": "text/x-python",
      "name": "python",
      "nbconvert_exporter": "python",
      "pygments_lexer": "ipython3",
      "version": "3.9.13"
    },
    "colab": {
      "provenance": []
    }
  },
  "nbformat": 4,
  "nbformat_minor": 5
}