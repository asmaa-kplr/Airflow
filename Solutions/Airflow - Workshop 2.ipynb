{
  "cells": [
    {
      "cell_type": "markdown",
      "id": "cda73cf6",
      "metadata": {
        "id": "cda73cf6"
      },
      "source": [
        "# Création Dags et définition des dépendances entre les DAG dans Airflow"
      ]
    },
    {
      "cell_type": "markdown",
      "id": "d676c240",
      "metadata": {
        "id": "d676c240"
      },
      "source": [
        "Lorsque deux DAG ont des relations de dépendance, il convient d'envisager de les combiner en un seul DAG, qui est généralement plus simple à comprendre. Airflow offre également une meilleure représentation visuelle de dépendances pour les tâches sur le même DAG. Cependant, il n'est parfois pas pratique de mettre tous les éléments connexes tâches sur le même DAG."
      ]
    },
    {
      "cell_type": "markdown",
      "id": "7decd7ba",
      "metadata": {
        "id": "7decd7ba"
      },
      "source": [
        "## 1. Création des deux dags Parents 'dag en amont'"
      ]
    },
    {
      "cell_type": "markdown",
      "id": "72edaa8b",
      "metadata": {
        "id": "72edaa8b"
      },
      "source": [
        "Pour la création des deux dags parents , il faut commencer par la création des deux fichirs 'parent_dag_1.py' et 'parent_dag_2.py' dans le dossier 'dags' ."
      ]
    },
    {
      "cell_type": "code",
      "execution_count": null,
      "id": "2e2b556c",
      "metadata": {
        "id": "2e2b556c"
      },
      "outputs": [],
      "source": [
        "└───dags|── parent_dag_1.py                  \n",
        "        └── parent_dag_2.py"
      ]
    },
    {
      "cell_type": "markdown",
      "id": "ef313074",
      "metadata": {
        "id": "ef313074"
      },
      "source": [
        "### 1 - parent_dag_1.py"
      ]
    },
    {
      "cell_type": "code",
      "execution_count": null,
      "id": "ba3995a7",
      "metadata": {
        "id": "ba3995a7"
      },
      "outputs": [],
      "source": [
        "from airflow import models\n",
        "from airflow.operators.dummy_operator import DummyOperator\n",
        "from airflow.operators import python_operator\n",
        "from airflow.utils.dates import days_ago\n",
        "\n",
        "\n",
        "with models.DAG(\n",
        "    'dag_1',\n",
        "    schedule_interval='*/1 * * * *', # Chaque minute\n",
        "    start_date=days_ago(0),\n",
        "    catchup=False) as dag:\n",
        "  def greeting():\n",
        "    \"\"\"Just check that the DAG is started in the log.\"\"\"\n",
        "    import logging\n",
        "    logging.info('Bonjour le monde depuis le DAG 1')\n",
        "\n",
        "  hello_python = python_operator.PythonOperator(\n",
        "    task_id='bonjour',\n",
        "    python_callable=greeting)\n",
        "\n",
        "  goodbye_dummy = DummyOperator(task_id='au_revoir')\n",
        "\n",
        "  hello_python >> goodbye_dummy"
      ]
    },
    {
      "cell_type": "markdown",
      "id": "e23065b5",
      "metadata": {
        "id": "e23065b5"
      },
      "source": [
        "Ce code crée un DAG simple dans Airflow appelé \"dag_1\", qui contient deux tâches :\n",
        "\n",
        "* La première tâche s'appelle \"hello_python\" et utilise l'opérateur Python pour exécuter la fonction \"greeting()\". Cette fonction écrit simplement \"Bonjour le monde depuis le DAG 1\" dans les logs.\n",
        "* La deuxième tâche s'appelle \"goodbye_dummy\" et utilise l'opérateur DummyOperator pour simuler une tâche de fin. La flèche \">>\" entre ces deux tâches définit une dépendance, de sorte que \"goodbye_dummy\" ne peut être exécuté que lorsque \"hello_python\" est terminé avec succès.\n",
        "La ligne \"with models.DAG(...)\" crée un objet DAG avec les paramètres suivants :\n",
        "\n",
        "* \"dag_id\": le nom du DAG (dans ce cas \"dag_1\").\n",
        "* \"schedule_interval\": la fréquence à laquelle le DAG sera exécuté (dans ce cas toutes les minutes).\n",
        "* \"start_date\": la date de début du DAG (dans ce cas, il commence immédiatement).\n",
        "* \"catchup\": un booléen qui indique si Airflow doit rattraper les exécutions manquées depuis la date de début (dans ce cas, c'est désactivé).\n",
        "\n",
        "En résumé, ce DAG exécutera la fonction \"greeting()\" toutes les minutes, écrira un message de log et terminera la tâche avec un opérateur \"Dummy\"."
      ]
    },
    {
      "cell_type": "markdown",
      "id": "6466bc4a",
      "metadata": {
        "id": "6466bc4a"
      },
      "source": [
        "![image](https://user-images.githubusercontent.com/123757632/227970640-39e0893d-6b28-4aa8-ad65-9f09ef4f31f7.png)\n"
      ]
    },
    {
      "cell_type": "markdown",
      "id": "22d1919e",
      "metadata": {
        "id": "22d1919e"
      },
      "source": [
        "Dans L'interface Utilisateur, Plus Précisément Dans L'interface Graphique Du Dag Nommé Dag_1, Toutes Les Tâches Peuvent Être Repérées."
      ]
    },
    {
      "cell_type": "markdown",
      "id": "afd8141b",
      "metadata": {
        "id": "afd8141b"
      },
      "source": [
        "\n",
        "![image](https://user-images.githubusercontent.com/123757632/227970692-7099a4d3-7d48-49a9-936e-cb9fe455e288.png)\n"
      ]
    },
    {
      "cell_type": "markdown",
      "id": "50484566",
      "metadata": {
        "id": "50484566"
      },
      "source": [
        "### 2 - parent_dag_2.py"
      ]
    },
    {
      "cell_type": "code",
      "execution_count": null,
      "id": "3a602cde",
      "metadata": {
        "id": "3a602cde"
      },
      "outputs": [],
      "source": [
        "from airflow import models\n",
        "from airflow.operators.dummy_operator import DummyOperator\n",
        "from airflow.operators import python_operator\n",
        "from airflow.utils.dates import days_ago\n",
        "\n",
        "\n",
        "with models.DAG(\n",
        "    'dag_2',\n",
        "    schedule_interval='*/1 * * * *', # Chaque minute\n",
        "    start_date=days_ago(0),\n",
        "    catchup=False) as dag:\n",
        "  def greeting():\n",
        "    \"\"\"Just check that the DAG is started in the log.\"\"\"\n",
        "    import logging\n",
        "    logging.info('Bonjour le monde depuis le DAG 2')\n",
        "\n",
        "  hello_python = python_operator.PythonOperator(\n",
        "    task_id='bonjour',\n",
        "    python_callable=greeting)\n",
        "\n",
        "  goodbye_dummy = DummyOperator(task_id='au_revoir')\n",
        "\n",
        "  hello_python >> goodbye_dummy"
      ]
    },
    {
      "cell_type": "markdown",
      "id": "c9c30208",
      "metadata": {
        "id": "c9c30208"
      },
      "source": [
        "Ce code crée un DAG nommé \"dag_2\" dans Airflow qui est identique au DAG précédent (\"dag_1\") que nous avons vu. Il contient deux tâches :\n",
        "\n",
        "* La première tâche s'appelle \"hello_python\" et utilise l'opérateur Python pour exécuter la fonction \"greeting()\". Cette fonction écrit simplement \"Bonjour le monde depuis le DAG 2\" dans les logs.\n",
        "* La deuxième tâche s'appelle \"goodbye_dummy\" et utilise l'opérateur DummyOperator pour simuler une tâche de fin. La flèche \">>\" entre ces deux tâches définit une dépendance, de sorte que \"goodbye_dummy\" ne peut être exécuté que lorsque \"hello_python\" est terminé avec succès.\n",
        "\n",
        "La ligne \"with models.DAG(...)\" crée un objet DAG avec les paramètres suivants :\n",
        "\n",
        "* \"dag_id\": le nom du DAG (dans ce cas \"dag_2\").\n",
        "* \"schedule_interval\": la fréquence à laquelle le DAG sera exécuté (dans ce cas toutes les minutes).\n",
        "* \"start_date\": la date de début du DAG (dans ce cas, il commence immédiatement).\n",
        "* \"catchup\": un booléen qui indique si Airflow doit rattraper les exécutions manquées depuis la date de début (dans ce cas, c'est désactivé).\n",
        "\n",
        "En résumé, ce DAG exécutera la fonction \"greeting()\" toutes les minutes, écrira un message de log et terminera la tâche avec un opérateur \"Dummy\". La seule différence entre ce DAG et le précédent est le nom.\n",
        "\n"
      ]
    },
    {
      "cell_type": "markdown",
      "id": "c17d08e3",
      "metadata": {
        "id": "c17d08e3"
      },
      "source": [
        "\n",
        "![image](https://user-images.githubusercontent.com/123757632/227970722-d5a85af4-25eb-42e7-8526-e046587ee17b.png)\n"
      ]
    },
    {
      "cell_type": "markdown",
      "id": "648699b3",
      "metadata": {
        "id": "648699b3"
      },
      "source": [
        "\n",
        "![image](https://user-images.githubusercontent.com/123757632/227970795-4eafaabe-c71b-4c1a-825a-c2e5be5201ab.png)\n"
      ]
    },
    {
      "cell_type": "markdown",
      "id": "e161faa8",
      "metadata": {
        "id": "e161faa8"
      },
      "source": [
        "## 2 . Création du dag enfant 'dag en aval'"
      ]
    },
    {
      "cell_type": "markdown",
      "id": "622b6af3",
      "metadata": {
        "id": "622b6af3"
      },
      "source": [
        "### child_master_dag.py"
      ]
    },
    {
      "cell_type": "code",
      "execution_count": null,
      "id": "7d2f988a",
      "metadata": {
        "id": "7d2f988a"
      },
      "outputs": [],
      "source": [
        "\"\"\"Déclenchez les DAGs #1 et #2 et faites quelque chose s'ils réussissent.\"\"\"\n",
        "\n",
        "from airflow import DAG\n",
        "from airflow.sensors.external_task import ExternalTaskSensor\n",
        "from airflow.operators.dummy_operator import DummyOperator\n",
        "from airflow.utils.dates import days_ago\n",
        "\n",
        "\n",
        "with DAG(\n",
        "    'Dag_master',\n",
        "    schedule_interval='*/1 * * * *', # Chaque minute\n",
        "    start_date=days_ago(0),\n",
        "    catchup=False) as dag:\n",
        "  def greeting():\n",
        "    \"\"\"Vérifiez simplement que le DAG a démarré dans le journal.\"\"\"\n",
        "    import logging\n",
        "    logging.info('Hello World from DAG MASTER')\n",
        "\n",
        "  externalsensor1 = ExternalTaskSensor(\n",
        "    task_id='dag_1_completed_status',\n",
        "    external_dag_id='dag_1',\n",
        "    external_task_id=None, #Attendez que tout le DAG soit terminé\n",
        "    check_existence=True,\n",
        "    timeout=120)\n",
        "\n",
        "  externalsensor2 = ExternalTaskSensor(\n",
        "    task_id='dag_2_completed_status',\n",
        "    external_dag_id='dag_2',\n",
        "    external_task_id=None, # Attendez que tout le DAG soit terminé\n",
        "    check_existence=True,\n",
        "    timeout=120)\n",
        "\n",
        "  goodbye_dummy = DummyOperator(task_id='goodbye_master')\n",
        "\n",
        "  [externalsensor1, externalsensor2] >> goodbye_dummy"
      ]
    },
    {
      "cell_type": "markdown",
      "id": "45682294",
      "metadata": {
        "id": "45682294"
      },
      "source": [
        "Le DAG principal est créé en utilisant la méthode DAG() de la bibliothèque Airflow. Le DAG est nommé \"Dag_master\" et est configuré pour s'exécuter toutes les minutes en utilisant le paramètre schedule_interval.\n",
        "\n",
        "La date de début est définie comme étant la date d'aujourd'hui en utilisant la fonction days_ago(). Une fonction appelée greeting() est définie pour vérifier que le DAG a démarré en écrivant un message de journalisation (\"Hello World from DAG MASTER\").\n",
        "\n",
        "Deux capteurs de tâches externes sont créés pour surveiller les deux DAGs #1 et #2 en attente de leur achèvement. \n",
        "\n",
        "Les capteurs sont configurés avec les paramètres suivants :\n",
        "\n",
        "* task_id: l'identifiant de la tâche\n",
        "* external_dag_id: l'identifiant du DAG externe à surveiller\n",
        "* external_task_id: l'identifiant de la tâche externe à surveiller. Dans ce cas, nous ne surveillons pas une tâche spécifique, mais tout le DAG. Par conséquent, nous avons défini cette valeur sur None.\n",
        "* check_existence: une valeur booléenne pour indiquer si le capteur doit vérifier l'existence de la tâche ou attendre qu'elle soit terminée.\n",
        "* timeout: le temps maximum en secondes pendant lequel le capteur doit attendre avant de déclencher une exception.\n",
        "* Finalement, une tâche \"goodbye_master\" est créée en utilisant l'opérateur fictif DummyOperator. Cette tâche sera exécutée si les deux capteurs de tâches externes réussissent. \n",
        "* Les deux capteurs sont connectés à la tâche \"goodbye_master\" en utilisant l'opérateur de décalage de bits (>>) pour indiquer que la tâche \"goodbye_master\" ne doit pas être exécutée tant que les deux capteurs ne se sont pas déclenchés.\n",
        "\n",
        "En résumé, ce DAG crée deux capteurs de tâches externes pour surveiller deux autres DAGs et attend leur achèvement avant d'exécuter une tâche fictive. Ce code peut être modifié pour effectuer une tâche réelle une fois que les deux DAGs sont terminés avec succès."
      ]
    },
    {
      "cell_type": "markdown",
      "id": "15889825",
      "metadata": {
        "id": "15889825"
      },
      "source": [
        "\n",
        "![image](https://user-images.githubusercontent.com/123757632/227970827-38425e7e-132b-4219-acdd-9ab90f8967a5.png)\n"
      ]
    },
    {
      "cell_type": "markdown",
      "id": "6ead4398",
      "metadata": {
        "id": "6ead4398"
      },
      "source": [
        "\n",
        "![image](https://user-images.githubusercontent.com/123757632/227970858-cb27f9ba-0f12-47c0-8cf6-a199da0f37ba.png)\n"
      ]
    },
    {
      "cell_type": "markdown",
      "id": "06122887",
      "metadata": {
        "id": "06122887"
      },
      "source": [
        "## ACTIVATION DES DAGS\n"
      ]
    },
    {
      "cell_type": "markdown",
      "id": "0fee914d",
      "metadata": {
        "id": "0fee914d"
      },
      "source": [
        "\n",
        "![image](https://user-images.githubusercontent.com/123757632/227970898-5c7dab64-9825-4f95-ab97-ea1f3d1ed219.png)\n"
      ]
    },
    {
      "cell_type": "markdown",
      "id": "eabc229c",
      "metadata": {
        "id": "eabc229c"
      },
      "source": [
        "### ACTIVATION DES DAGS-DAG1"
      ]
    },
    {
      "cell_type": "markdown",
      "id": "3a60cbad",
      "metadata": {
        "id": "3a60cbad"
      },
      "source": [
        "\n",
        "![image](https://user-images.githubusercontent.com/123757632/227970915-ae6b4578-7ecc-41c6-9344-b30781742a45.png)\n"
      ]
    },
    {
      "cell_type": "markdown",
      "id": "90613e96",
      "metadata": {
        "id": "90613e96"
      },
      "source": [
        "### ACTIVATION DES DAGS-DAG2"
      ]
    },
    {
      "cell_type": "markdown",
      "id": "67f5e94a",
      "metadata": {
        "id": "67f5e94a"
      },
      "source": [
        "\n",
        "![image](https://user-images.githubusercontent.com/123757632/227970954-4c1c4422-2ad2-454f-84c3-458caba15e8d.png)\n"
      ]
    },
    {
      "cell_type": "markdown",
      "id": "d6bcfc6c",
      "metadata": {
        "id": "d6bcfc6c"
      },
      "source": [
        "### ACTIVATION DES DAGS-DAG_MASTER\n"
      ]
    },
    {
      "cell_type": "markdown",
      "id": "6c1f78c5",
      "metadata": {
        "id": "6c1f78c5"
      },
      "source": [
        "\n",
        "![image](https://user-images.githubusercontent.com/123757632/227971011-b6b655df-99a5-4b6e-9d85-d673e236d52a.png)"
      ]
    }
  ],
  "metadata": {
    "kernelspec": {
      "display_name": "Python 3 (ipykernel)",
      "language": "python",
      "name": "python3"
    },
    "language_info": {
      "codemirror_mode": {
        "name": "ipython",
        "version": 3
      },
      "file_extension": ".py",
      "mimetype": "text/x-python",
      "name": "python",
      "nbconvert_exporter": "python",
      "pygments_lexer": "ipython3",
      "version": "3.9.13"
    },
    "colab": {
      "provenance": []
    }
  },
  "nbformat": 4,
  "nbformat_minor": 5
}