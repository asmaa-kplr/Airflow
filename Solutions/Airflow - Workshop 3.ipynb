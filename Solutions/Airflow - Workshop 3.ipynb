{
  "cells": [
    {
      "cell_type": "markdown",
      "id": "20f32172",
      "metadata": {
        "id": "20f32172"
      },
      "source": [
        "# Construire un pipeline d'exécution avec PostgreSQL"
      ]
    },
    {
      "cell_type": "markdown",
      "id": "f6d4d742",
      "metadata": {
        "id": "f6d4d742"
      },
      "source": [
        "## Configuration initiale :\n",
        "\n",
        "Il est recommandé d'avoir Docker installé, car la procédure \"Exécution d'Airflow dans Docker\" sera utilisée pour cet exemple."
      ]
    },
    {
      "cell_type": "code",
      "execution_count": null,
      "id": "9a57feb2",
      "metadata": {
        "id": "9a57feb2"
      },
      "outputs": [],
      "source": [
        "#Télécharger le fichier docker-compose.yaml\n",
        "curl -LfO 'https://airflow.apache.org/docs/apache-airflow/stable/docker-compose.yaml'\n",
        "\n",
        "#Créer les répertoires attendus et définir une variable d'environnement attendue\n",
        "mkdir -p ./dags ./logs ./plugins\n",
        "echo -e \"AIRFLOW_UID=$(id -u)\" > .env\n",
        "\n",
        "#Initialiser la base de données\n",
        "docker-compose up airflow-init\n",
        "\n",
        "#Démarrer tous les services\n",
        "docker-compose up"
      ]
    },
    {
      "cell_type": "markdown",
      "id": "cb26d2a9",
      "metadata": {
        "id": "cb26d2a9"
      },
      "source": [
        "Une fois que tous les services ont été démarrés, l'interface utilisateur Web sera disponible à l'adresse : http://localhost:8080. Le compte par défaut a le nom d'utilisateur airflow et le mot de passe airflow. \n",
        "\n",
        "![image](https://user-images.githubusercontent.com/123757632/227974791-6c895472-4bb6-4127-a694-d105f2524b2f.png)\n"
      ]
    },
    {
      "cell_type": "markdown",
      "id": "26096c21",
      "metadata": {
        "id": "26096c21"
      },
      "source": [
        "Il sera également nécessaire de créer une connexion à la base de données postgres. Pour effectuer cette opération via l'interface Web, accédez au menu \"Admin\", sélectionnez \"Connections\", puis cliquez sur l'icône \"+\" pour ajouter un nouvel enregistrement à la liste des connexions.\n",
        "\n",
        "Les champs doivent être remplis selon les indications ci-dessous. Il est important de noter l'identifiant de connexion (Connection Id), qui sera passé en paramètre pour l'argument nommé postgres_conn_id\n",
        "\n",
        "* Connection Id : tutorial_pg_conn\n",
        "\n",
        "* Type de connexion : postgres\n",
        "\n",
        "* Hôte : postgres\n",
        "\n",
        "* Schéma : airflow\n",
        "\n",
        "* Identifiant : airflow\n",
        "\n",
        "* Mot de passe : airflow\n",
        "\n",
        "* Port : 5432"
      ]
    },
    {
      "cell_type": "markdown",
      "id": "55ae9d4d",
      "metadata": {
        "id": "55ae9d4d"
      },
      "source": [
        "\n",
        "![image](https://user-images.githubusercontent.com/123757632/227974836-5ee852e9-0b13-4388-962e-e9a800b52beb.png)\n",
        "\n"
      ]
    },
    {
      "cell_type": "markdown",
      "id": "1b7e3714",
      "metadata": {
        "id": "1b7e3714"
      },
      "source": [
        "## Tâches de création de table\n",
        "\n",
        "Il est possible d'utiliser PostgresOperator afin de définir des tâches qui créeront des tables dans la base de données postgres.\n",
        "\n",
        "Il est prévu de créer deux tables : une pour faciliter le nettoyage des données (employees_temp) et une autre pour stocker les données nettoyées (employees)."
      ]
    },
    {
      "cell_type": "code",
      "execution_count": null,
      "id": "3fa7ef84",
      "metadata": {
        "id": "3fa7ef84"
      },
      "outputs": [],
      "source": [
        "from airflow.providers.postgres.operators.postgres import PostgresOperator\n",
        "\n",
        "create_employees_table = PostgresOperator(\n",
        "    task_id=\"create_employees_table\",\n",
        "    postgres_conn_id=\"tutorial_pg_conn\",\n",
        "    sql=\"\"\"\n",
        "        CREATE TABLE IF NOT EXISTS employees (\n",
        "            \"Serial Number\" NUMERIC PRIMARY KEY,\n",
        "            \"Company Name\" TEXT,\n",
        "            \"Employee Markme\" TEXT,\n",
        "            \"Description\" TEXT,\n",
        "            \"Leave\" INTEGER\n",
        "        );\"\"\",\n",
        ")\n",
        "\n",
        "create_employees_temp_table = PostgresOperator(\n",
        "    task_id=\"create_employees_temp_table\",\n",
        "    postgres_conn_id=\"tutorial_pg_conn\",\n",
        "    sql=\"\"\"\n",
        "        DROP TABLE IF EXISTS employees_temp;\n",
        "        CREATE TABLE employees_temp (\n",
        "            \"Serial Number\" NUMERIC PRIMARY KEY,\n",
        "            \"Company Name\" TEXT,\n",
        "            \"Employee Markme\" TEXT,\n",
        "            \"Description\" TEXT,\n",
        "            \"Leave\" INTEGER\n",
        "        );\"\"\",\n",
        ")"
      ]
    },
    {
      "cell_type": "markdown",
      "id": "f1ab823c",
      "metadata": {
        "id": "f1ab823c"
      },
      "source": [
        "## Tâche de récupération de données\n",
        "\n",
        "Ici, les données sont récupérées, enregistrées dans un fichier sur l'instance Airflow, puis chargées à partir de ce fichier dans une table intermédiaire afin de pouvoir exécuter les étapes de nettoyage des données."
      ]
    },
    {
      "cell_type": "code",
      "execution_count": null,
      "id": "2e4f2a24",
      "metadata": {
        "id": "2e4f2a24"
      },
      "outputs": [],
      "source": [
        "import os\n",
        "import requests\n",
        "from airflow.decorators import task\n",
        "from airflow.providers.postgres.hooks.postgres import PostgresHook\n",
        "\n",
        "\n",
        "@task\n",
        "def get_data():\n",
        "    # REMARQUE : configurez cela selon les besoins de votre environnement Airflow.\n",
        "    data_path = \"/opt/airflow/dags/files/employees.csv\"\n",
        "    os.makedirs(os.path.dirname(data_path), exist_ok=True)\n",
        "\n",
        "    url = \"https://raw.githubusercontent.com/apache/airflow/main/docs/apache-airflow/tutorial/pipeline_example.csv\"\n",
        "\n",
        "    response = requests.request(\"GET\", url)\n",
        "\n",
        "    with open(data_path, \"w\") as file:\n",
        "        file.write(response.text)\n",
        "\n",
        "    postgres_hook = PostgresHook(postgres_conn_id=\"tutorial_pg_conn\")\n",
        "    conn = postgres_hook.get_conn()\n",
        "    cur = conn.cursor()\n",
        "    with open(data_path, \"r\") as file:\n",
        "        cur.copy_expert(\n",
        "            \"COPY employees_temp FROM STDIN WITH CSV HEADER DELIMITER AS ',' QUOTE '\\\"'\",\n",
        "            file,\n",
        "        )\n",
        "    conn.commit()"
      ]
    },
    {
      "cell_type": "markdown",
      "id": "9b744105",
      "metadata": {
        "id": "9b744105"
      },
      "source": [
        "## Tâche de fusion de données\n",
        "Ici, des enregistrements complètement uniques sont sélectionnés à partir des données récupérées, puis il est vérifié si des numéros de série d'employés sont déjà présents dans la base de données. Si tel est le cas, ces enregistrements sont mis à jour avec les nouvelles données."
      ]
    },
    {
      "cell_type": "code",
      "execution_count": null,
      "id": "7018b03d",
      "metadata": {
        "id": "7018b03d"
      },
      "outputs": [],
      "source": [
        "from airflow.decorators import task\n",
        "from airflow.providers.postgres.hooks.postgres import PostgresHook\n",
        "\n",
        "\n",
        "@task\n",
        "def merge_data():\n",
        "    query = \"\"\"\n",
        "        INSERT INTO employees\n",
        "        SELECT *\n",
        "        FROM (\n",
        "            SELECT DISTINCT *\n",
        "            FROM employees_temp\n",
        "        ) t\n",
        "        ON CONFLICT (\"Serial Number\") DO UPDATE\n",
        "        SET\n",
        "              \"Employee Markme\" = excluded.\"Employee Markme\",\n",
        "              \"Description\" = excluded.\"Description\",\n",
        "              \"Leave\" = excluded.\"Leave\";\n",
        "    \"\"\"\n",
        "    try:\n",
        "        postgres_hook = PostgresHook(postgres_conn_id=\"tutorial_pg_conn\")\n",
        "        conn = postgres_hook.get_conn()\n",
        "        cur = conn.cursor()\n",
        "        cur.execute(query)\n",
        "        conn.commit()\n",
        "        return 0\n",
        "    except Exception as e:\n",
        "        return 1"
      ]
    },
    {
      "cell_type": "markdown",
      "id": "a4531dd6",
      "metadata": {
        "id": "a4531dd6"
      },
      "source": [
        "## Finalisation du DAG\n",
        "\n",
        "Les tâches ont été développées et doivent maintenant être intégrées dans un DAG. Ce DAG permet de définir quand et comment les tâches doivent s'exécuter, ainsi que les dépendances entre les tâches. Le DAG ci-dessous est configuré pour :\n",
        "\n",
        "* s'exécuter tous les jours à minuit à partir du 24er mars 2023,\n",
        "\n",
        "* ne s'exécuter qu'une seule fois en cas de jours manqués, et\n",
        "\n",
        "* s'interrompre après 60 minutes.\n",
        "\n",
        "À partir de la dernière ligne de la définition du DAG \"process-employees\", il est possible de voir :"
      ]
    },
    {
      "cell_type": "code",
      "execution_count": null,
      "id": "575e103d",
      "metadata": {
        "id": "575e103d"
      },
      "outputs": [],
      "source": [
        "[create_employees_table, create_employees_temp_table] >> get_data() >> merge_data()"
      ]
    },
    {
      "cell_type": "markdown",
      "id": "675363bc",
      "metadata": {
        "id": "675363bc"
      },
      "source": [
        "* la tâche \"merge_data()\" dépend de la tâche \"get_data()\",\n",
        "\n",
        "* \"get_data()\" dépend à la fois des tâches \"create_employees_table\" et \"create_employees_temp_table\",\n",
        "\n",
        "* et les tâches \"create_employees_table\" et \"create_employees_temp_table\" peuvent s'exécuter indépendamment.\n",
        "\n",
        "En combinant tous ces éléments, le DAG est finalisé."
      ]
    },
    {
      "cell_type": "code",
      "execution_count": null,
      "id": "78e50569",
      "metadata": {
        "id": "78e50569"
      },
      "outputs": [],
      "source": [
        "import datetime\n",
        "import pendulum\n",
        "import os\n",
        "\n",
        "import requests\n",
        "from airflow.decorators import dag, task\n",
        "from airflow.providers.postgres.hooks.postgres import PostgresHook\n",
        "from airflow.providers.postgres.operators.postgres import PostgresOperator\n",
        "\n",
        "\n",
        "@dag(\n",
        "    dag_id=\"process-employees\",\n",
        "    schedule_interval=\"0 0 * * *\",\n",
        "    start_date=pendulum.datetime(2021, 1, 1, tz=\"UTC\"),\n",
        "    catchup=False,\n",
        "    dagrun_timeout=datetime.timedelta(minutes=60),\n",
        ")\n",
        "def ProcessEmployees():\n",
        "    create_employees_table = PostgresOperator(\n",
        "        task_id=\"create_employees_table\",\n",
        "        postgres_conn_id=\"tutorial_pg_conn\",\n",
        "        sql=\"\"\"\n",
        "            CREATE TABLE IF NOT EXISTS employees (\n",
        "                \"Serial Number\" NUMERIC PRIMARY KEY,\n",
        "                \"Company Name\" TEXT,\n",
        "                \"Employee Markme\" TEXT,\n",
        "                \"Description\" TEXT,\n",
        "                \"Leave\" INTEGER\n",
        "            );\"\"\",\n",
        "    )\n",
        "\n",
        "    create_employees_temp_table = PostgresOperator(\n",
        "        task_id=\"create_employees_temp_table\",\n",
        "        postgres_conn_id=\"tutorial_pg_conn\",\n",
        "        sql=\"\"\"\n",
        "            DROP TABLE IF EXISTS employees_temp;\n",
        "            CREATE TABLE employees_temp (\n",
        "                \"Serial Number\" NUMERIC PRIMARY KEY,\n",
        "                \"Company Name\" TEXT,\n",
        "                \"Employee Markme\" TEXT,\n",
        "                \"Description\" TEXT,\n",
        "                \"Leave\" INTEGER\n",
        "            );\"\"\",\n",
        "    )\n",
        "\n",
        "    @task\n",
        "    def get_data():\n",
        "        # REMARQUE : configurez cela selon les besoins de votre environnement Airflow.\n",
        "        data_path = \"/opt/airflow/dags/files/employees.csv\"\n",
        "        os.makedirs(os.path.dirname(data_path), exist_ok=True)\n",
        "\n",
        "        url = \"https://raw.githubusercontent.com/apache/airflow/main/docs/apache-airflow/tutorial/pipeline_example.csv\"\n",
        "\n",
        "        response = requests.request(\"GET\", url)\n",
        "\n",
        "        with open(data_path, \"w\") as file:\n",
        "            file.write(response.text)\n",
        "\n",
        "        postgres_hook = PostgresHook(postgres_conn_id=\"tutorial_pg_conn\")\n",
        "        conn = postgres_hook.get_conn()\n",
        "        cur = conn.cursor()\n",
        "        with open(data_path, \"r\") as file:\n",
        "            cur.copy_expert(\n",
        "                \"COPY employees_temp FROM STDIN WITH CSV HEADER DELIMITER AS ',' QUOTE '\\\"'\",\n",
        "                file,\n",
        "            )\n",
        "        conn.commit()\n",
        "\n",
        "    @task\n",
        "    def merge_data():\n",
        "        query = \"\"\"\n",
        "            INSERT INTO employees\n",
        "            SELECT *\n",
        "            FROM (\n",
        "                SELECT DISTINCT *\n",
        "                FROM employees_temp\n",
        "            ) t\n",
        "            ON CONFLICT (\"Serial Number\") DO UPDATE\n",
        "            SET \"Serial Number\" = excluded.\"Serial Number\";\n",
        "        \"\"\"\n",
        "        try:\n",
        "            postgres_hook = PostgresHook(postgres_conn_id=\"tutorial_pg_conn\")\n",
        "            conn = postgres_hook.get_conn()\n",
        "            cur = conn.cursor()\n",
        "            cur.execute(query)\n",
        "            conn.commit()\n",
        "            return 0\n",
        "        except Exception as e:\n",
        "            return 1\n",
        "\n",
        "    [create_employees_table, create_employees_temp_table] >> get_data() >> merge_data()\n",
        "\n",
        "\n",
        "dag = ProcessEmployees()"
      ]
    },
    {
      "cell_type": "markdown",
      "id": "cbb73bae",
      "metadata": {
        "id": "cbb73bae"
      },
      "source": [
        "Enregistrez ce code dans un fichier python dans le dossier /dags (par exemple dags/process-employees.py) et (après une courte attente), le DAG process-employees sera inclus dans la liste des DAG disponibles sur l'interface utilisateur web.\n",
        "\n"
      ]
    },
    {
      "cell_type": "markdown",
      "id": "07d7aa42",
      "metadata": {
        "id": "07d7aa42"
      },
      "source": [
        "\n",
        "![image](https://user-images.githubusercontent.com/123757632/227974881-9e246848-cd68-4215-9dc6-e3083042455e.png)\n"
      ]
    },
    {
      "cell_type": "markdown",
      "id": "b4d8c16f",
      "metadata": {
        "id": "b4d8c16f"
      },
      "source": [
        "Il est possible de déclencher le DAG \"process-employees\" en le sélectionnant (via le curseur à gauche) et en le lançant (en appuyant sur le bouton Exécuter sous Actions)."
      ]
    },
    {
      "cell_type": "markdown",
      "id": "219567d5",
      "metadata": {
        "id": "219567d5"
      },
      "source": [
        "\n",
        "![image](https://user-images.githubusercontent.com/123757632/227974915-f7f4f7f6-6401-4ed1-a435-5c6db720d48c.png)\n"
      ]
    },
    {
      "cell_type": "markdown",
      "id": "cd7d8348",
      "metadata": {
        "id": "cd7d8348"
      },
      "source": [
        "En examinant la vue en grille du DAG \"process-employees\", il est possible de constater que toutes les tâches ont été exécutées avec succès lors de toutes les exécutions effectuées. C'est un succès !"
      ]
    },
    {
      "cell_type": "markdown",
      "id": "be55eea0",
      "metadata": {
        "id": "be55eea0"
      },
      "source": [
        "\n",
        "![image](https://user-images.githubusercontent.com/123757632/227974958-41e5b7bb-c5a0-4d22-acd3-8ae67b561586.png)"
      ]
    }
  ],
  "metadata": {
    "kernelspec": {
      "display_name": "Python 3 (ipykernel)",
      "language": "python",
      "name": "python3"
    },
    "language_info": {
      "codemirror_mode": {
        "name": "ipython",
        "version": 3
      },
      "file_extension": ".py",
      "mimetype": "text/x-python",
      "name": "python",
      "nbconvert_exporter": "python",
      "pygments_lexer": "ipython3",
      "version": "3.9.13"
    },
    "colab": {
      "provenance": []
    }
  },
  "nbformat": 4,
  "nbformat_minor": 5
}