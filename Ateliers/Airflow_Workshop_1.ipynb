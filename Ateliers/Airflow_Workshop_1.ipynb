{
  "nbformat": 4,
  "nbformat_minor": 0,
  "metadata": {
    "colab": {
      "provenance": []
    },
    "kernelspec": {
      "name": "python3",
      "display_name": "Python 3"
    },
    "language_info": {
      "name": "python"
    }
  },
  "cells": [
    {
      "cell_type": "markdown",
      "source": [
        "# Airflow - Workshop 1"
      ],
      "metadata": {
        "id": "FccikTgI5srX"
      }
    },
    {
      "cell_type": "markdown",
      "source": [
        "### Create an account in Gitpod : \n",
        "\n",
        "- Aller sur : [Gitpod](https://www.gitpod.io/)\n",
        "- Cliquer sur Start for free : \n",
        "\n",
        "![image](https://user-images.githubusercontent.com/123749462/225635172-ed9deb65-be66-4386-a900-a993a814b6d8.png)\n",
        "\n",
        "- Cliquer sur Continue with Github : \n",
        "\n",
        "![image](https://user-images.githubusercontent.com/123749462/225637304-eff2de81-6739-447f-8ebe-fa1ed0009269.png)\n",
        "\n",
        "- Cliquer sur Authorize gitpod-io :\n",
        "\n",
        "![image](https://user-images.githubusercontent.com/123749462/225637621-65e29c37-d7ad-41fa-a6e2-ef398f6e96d6.png)\n",
        "\n",
        "- Ajouter votre Nom > puis cliquer sur continue : \n",
        "\n",
        "![image](https://user-images.githubusercontent.com/123749462/225638708-270133d1-34e3-4508-9d51-2d9f7f7215b0.png)\n",
        "\n",
        "- Cliquer sur Continue : \n",
        "\n",
        "![image](https://user-images.githubusercontent.com/123749462/225639253-d7df048d-f1a8-41e1-9884-aa69ef708787.png)\n",
        "\n",
        "- Cliquer sur continue : \n",
        "\n",
        "![image](https://user-images.githubusercontent.com/123749462/225639739-4907dad5-f97f-43a8-b962-afc90a56e14e.png)\n",
        "\n",
        "- Cliquer sur New Workspace : \n",
        "\n",
        "![image](https://user-images.githubusercontent.com/123749462/225640157-2cc63eb3-42b5-4b4d-ba45-661239f344d9.png)\n",
        "\n",
        "- Cliquer sur Context URL :\n",
        "\n",
        "![image](https://user-images.githubusercontent.com/123749462/225642485-cefe1ba2-d892-4a01-89c6-eb90d932db91.png)\n",
        "\n",
        "- Copier et Coller l'URL qu'on va vous donner: \n",
        "\n",
        "![image](https://user-images.githubusercontent.com/123749462/225642811-59d55165-5d8c-4575-842d-0e941bae80e1.png)\n",
        "\n",
        "- Cliquer sur New Workspace : \n",
        "\n",
        "![image](https://user-images.githubusercontent.com/123749462/225643474-8194aa42-3bf5-48fd-a525-2468db393483.png)\n",
        "\n"
      ],
      "metadata": {
        "id": "G7HfYBXOzfWY"
      }
    },
    {
      "cell_type": "markdown",
      "source": [
        "## Configurer Apache Airflow avec Docker-Compose"
      ],
      "metadata": {
        "id": "hHREoT3U5xQo"
      }
    },
    {
      "cell_type": "markdown",
      "source": [
        "### 1 . Avant de commencer"
      ],
      "metadata": {
        "id": "_ogMiW1J50RD"
      }
    },
    {
      "cell_type": "markdown",
      "source": [
        "Cette procédure suppose une familiarité avec Docker et Docker Compose.\n",
        "\n",
        "Docker : Une plateforme de virtualisation de conteneurs qui permet d'exécuter des applications dans des environnements isolés, appelés conteneurs, afin de faciliter le déploiement et la gestion d'applications sur différents systèmes d'exploitation et infrastructures.\n",
        "\n",
        "Docker-compose : Est un outil de gestion de conteneurs qui permet de définir et de gérer plusieurs conteneurs Docker en même temps"
      ],
      "metadata": {
        "id": "OwRnFkTH53n8"
      }
    },
    {
      "cell_type": "markdown",
      "source": [
        "### 2 . Récupération docker-compose.yaml"
      ],
      "metadata": {
        "id": "Z5uccQoQ56M3"
      }
    },
    {
      "cell_type": "markdown",
      "source": [
        "Pour le déploiement d'Airflow sur Docker Compose, il est nécessaire de récupérer le fichier docker-compose.yaml"
      ],
      "metadata": {
        "id": "1sQ4t_4J59wT"
      }
    },
    {
      "cell_type": "code",
      "source": [
        "curl -LfO 'https://airflow.apache.org/docs/apache-airflow/2.5.1/docker-compose.yaml'"
      ],
      "metadata": {
        "id": "E80VyCu05_ae"
      },
      "execution_count": null,
      "outputs": []
    },
    {
      "cell_type": "markdown",
      "source": [
        "Ce fichier contient plusieurs définitions de service:\n",
        "\n",
        "**airflow-init :** Le service d'initialisation.\n",
        "\n",
        "**airflow-scheduler :** Le planificateur surveilletoutes les tâches et les DAG, puis déclenche le les instances de tâches une fois leurs dépendances terminées.\n",
        "\n",
        "![image](https://user-images.githubusercontent.com/123757632/225338366-ccd82410-0ea6-44af-98a4-371f537bc1b6.png)\n",
        "\n",
        "**airflow-webserver :** Le serveur Web est disponible sur http://localhost:8080.\n",
        "\n",
        "![image](https://user-images.githubusercontent.com/123757632/225338693-3a69dcf3-0b09-49bd-9ed8-aa739a454a35.png)\n",
        "\n",
        "**airflow-worker :** Le travailleur qui exécute les tâches données par le planificateur.\n",
        "\n",
        "![image](https://user-images.githubusercontent.com/123757632/225338878-5a359306-abd1-4502-bd82-8882184586d7.png)\n",
        "\n",
        "**postgres :** La base de données.\n",
        "\n",
        "![image](https://user-images.githubusercontent.com/123757632/225339186-906134a6-a76e-411f-b621-9339c7d1d87c.png)\n",
        "\n",
        "**redis - Les redis :**  courtier qui transmet les messages du planificateur au travailleur.\n",
        "\n",
        "![image](https://user-images.githubusercontent.com/123757632/225339462-e9f1e990-fda7-471a-885d-4b75f7a3c3dc.png)"
      ],
      "metadata": {
        "id": "exnFFS456Bq2"
      }
    },
    {
      "cell_type": "markdown",
      "source": [
        "### 3 . Initialisation de l'environnement \n",
        "\n",
        "Avant de démarrer Airflow pour la première fois, vous devez préparer votre environnement, c'est-à-dire créer les fichiers nécessaires, répertoires et initialiser la base de données."
      ],
      "metadata": {
        "id": "mV0r3u776WDu"
      }
    },
    {
      "cell_type": "code",
      "source": [
        "mkdir -p ./dags ./logs ./plugins\n",
        "echo -e \"AIRFLOW_UID=$(id -u)\" > .env"
      ],
      "metadata": {
        "id": "XVBxgGsZ6b_m"
      },
      "execution_count": null,
      "outputs": []
    },
    {
      "cell_type": "markdown",
      "source": [
        "La première commande crée trois répertoires dans le répertoire actuel (./), nommément dags, logs et plugins. L'option -p signifie que les répertoires parents seront également créés si nécessaire.\n",
        "\n",
        "La deuxième commande crée un fichier nommé .env dans le répertoire actuel et y écrit une variable d'environnement appelée AIRFLOW_UID contenant l'ID utilisateur de l'utilisateur courant"
      ],
      "metadata": {
        "id": "iurdOu226geQ"
      }
    },
    {
      "cell_type": "markdown",
      "source": [
        "![image](https://user-images.githubusercontent.com/123757632/225340586-cdca88dd-4977-44e1-b66d-d064c402d9d9.png)\n",
        "\n",
        "**\"dags\" :** C'est un répertoire où vous pouvez stocker des définitions de tâches d'Airflow,qui sont des workflows écrits en Python. Dans ce répertoire, vous pouvez créer un fichier Python pour chaque tâche ou un groupe de tâches liées.\n",
        "\n",
        "**\"logs\" :** Ce répertoire est utilisé par Airflow pour stocker les fichiers de journalisation (logs) générés lors de l'exécution des tâches. \n",
        "\n",
        "**\"plugins\" :** Ce répertoire est utilisé pour stocker des plugins personnalisés pour Airflow. Les plugins sont des modules Python qui étendent les fonctionnalités d'Airflow, tels que des connecteurs personnalisés ou des opérateurs personnalisés."
      ],
      "metadata": {
        "id": "r8Q4_a2Q6hkg"
      }
    },
    {
      "cell_type": "markdown",
      "source": [
        "### 4 . Initialiser Airflow\n",
        "\n",
        "Sur tous les systèmes d'exploitation, vous devez exécuter les migrations de base de données et créer le premier compte utilisateur."
      ],
      "metadata": {
        "id": "N_WGO2SD6qAB"
      }
    },
    {
      "cell_type": "code",
      "source": [
        "docker compose up airflow-init"
      ],
      "metadata": {
        "id": "DHI6_sFC6tck"
      },
      "execution_count": null,
      "outputs": []
    },
    {
      "cell_type": "markdown",
      "source": [
        "Une fois l'initialisation terminée, vous devriez voir un message comme celui-ci:"
      ],
      "metadata": {
        "id": "lorE_0e96v14"
      }
    },
    {
      "cell_type": "code",
      "source": [
        "airflow-init_1       | Upgrades done\n",
        "airflow-init_1       | Admin user airflow created\n",
        "airflow-init_1       | 2.5.1\n",
        "start_airflow-init_1 exited with code 0"
      ],
      "metadata": {
        "id": "-sAUF6Bj6wI2"
      },
      "execution_count": null,
      "outputs": []
    },
    {
      "cell_type": "markdown",
      "source": [
        "### 5 . Exécution d'Airflow\n",
        "\n",
        "Vous pouvez maintenant démarrer tous les services avec :"
      ],
      "metadata": {
        "id": "MBOHtBy-610A"
      }
    },
    {
      "cell_type": "code",
      "source": [
        "docker compose up -d"
      ],
      "metadata": {
        "id": "sCF_bojt64PL"
      },
      "execution_count": null,
      "outputs": []
    },
    {
      "cell_type": "markdown",
      "source": [
        "![image](https://user-images.githubusercontent.com/123757632/230572714-190e67ba-123c-410d-8d7a-f6276b878da5.png)\n",
        "\n",
        "Pour ouvrir un lien dans Gitpod, vous pouvez simplement cliquer sur le lien dans le volet **PORTS**. Gitpod ouvrira automatiquement le lien dans un nouvel onglet de votre navigateur dans l'environnement Gitpod.\n"
      ],
      "metadata": {
        "id": "aR-RvmIU0efG"
      }
    },
    {
      "cell_type": "markdown",
      "source": [
        "![image](https://user-images.githubusercontent.com/123757632/225343489-bcaa89aa-9f13-46b7-bbfb-a4e592ee71e6.png)\n",
        "\n",
        "Vous pouvez vérifier l'état des conteneurs et vous assurer qu'aucun conteneur n'est dans un état malsain:"
      ],
      "metadata": {
        "id": "Yk0LG2Nq66n9"
      }
    },
    {
      "cell_type": "code",
      "source": [
        "docker compose ps"
      ],
      "metadata": {
        "id": "8kV4V60I653t"
      },
      "execution_count": null,
      "outputs": []
    },
    {
      "cell_type": "markdown",
      "source": [
        "![image](https://user-images.githubusercontent.com/123757632/225344913-b2055e69-8a42-4f40-9162-60d21ec1c784.png)"
      ],
      "metadata": {
        "id": "ZKO2Mn1m7BEY"
      }
    }
  ]
}